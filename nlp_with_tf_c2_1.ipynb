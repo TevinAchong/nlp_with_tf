{
  "nbformat": 4,
  "nbformat_minor": 0,
  "metadata": {
    "colab": {
      "name": "nlp_with_tf_c2_1.ipynb",
      "provenance": [],
      "collapsed_sections": []
    },
    "kernelspec": {
      "name": "python3",
      "display_name": "Python 3"
    }
  },
  "cells": [
    {
      "cell_type": "code",
      "metadata": {
        "id": "iMk0X4FQKigg",
        "colab_type": "code",
        "outputId": "082ef253-d2c9-4e83-80a2-25737230ddbc",
        "colab": {
          "base_uri": "https://localhost:8080/",
          "height": 63
        }
      },
      "source": [
        "import tensorflow as tf\n",
        "import numpy as np"
      ],
      "execution_count": 0,
      "outputs": [
        {
          "output_type": "display_data",
          "data": {
            "text/html": [
              "<p style=\"color: red;\">\n",
              "The default version of TensorFlow in Colab will soon switch to TensorFlow 2.x.<br>\n",
              "We recommend you <a href=\"https://www.tensorflow.org/guide/migrate\" target=\"_blank\">upgrade</a> now \n",
              "or ensure your notebook will continue to use TensorFlow 1.x via the <code>%tensorflow_version 1.x</code> magic:\n",
              "<a href=\"https://colab.research.google.com/notebooks/tensorflow_version.ipynb\" target=\"_blank\">more info</a>.</p>\n"
            ],
            "text/plain": [
              "<IPython.core.display.HTML object>"
            ]
          },
          "metadata": {
            "tags": []
          }
        }
      ]
    },
    {
      "cell_type": "code",
      "metadata": {
        "id": "7b247N-sLCyH",
        "colab_type": "code",
        "colab": {}
      },
      "source": [
        "graph = tf.Graph()\n",
        "session = tf.InteractiveSession(graph=graph)\n",
        "# WE WANT TO USE TF TO COMPUTE h = sigmoid(w*x + b)"
      ],
      "execution_count": 0,
      "outputs": []
    },
    {
      "cell_type": "code",
      "metadata": {
        "id": "yNqMPEGoLUNL",
        "colab_type": "code",
        "colab": {}
      },
      "source": [
        "# Placeholders are not initialized with some value\n",
        "# Rather we will provide the value on the fly at the time of graph execution\n",
        "x = tf.placeholder(shape=[1, 10], dtype=tf.float32, name='x')"
      ],
      "execution_count": 0,
      "outputs": []
    },
    {
      "cell_type": "code",
      "metadata": {
        "id": "LLG7dJnKL07o",
        "colab_type": "code",
        "colab": {}
      },
      "source": [
        "# Variables are mutable; their values can change over time\n",
        "W = tf.Variable(tf.random_uniform(shape=[10, 5], minval=-0.1, maxval=0.1, dtype=tf.float32), name='w')\n",
        "b = tf.Variable(tf.zeros(shape=[5], dtype=tf.float32), name='b')\n",
        "# Arguments are variable initializers and are the tensors that will be assigned to the W and b variables initially\n",
        "# Variables need initial values as placeholders and need to have some value assigned to them at all times\n",
        "# tf.random_uniform means we uniformly sample values between minval=-0.1 and maxval=0.1 to assign values to the tensors\n",
        "# tf.zeros initializes the tensor with zeros\n",
        "# shape defines the size of each dimension of a tensor"
      ],
      "execution_count": 0,
      "outputs": []
    },
    {
      "cell_type": "code",
      "metadata": {
        "id": "DG1EPdY8MVpP",
        "colab_type": "code",
        "colab": {}
      },
      "source": [
        "# h is an immutable tensor produced by performing some operations on x, W, and b\n",
        "h = tf.nn.sigmoid(tf.matmul(x, W) + b)"
      ],
      "execution_count": 0,
      "outputs": []
    },
    {
      "cell_type": "code",
      "metadata": {
        "id": "oM0MvxaJMn2X",
        "colab_type": "code",
        "colab": {}
      },
      "source": [
        "# Initialization operation that initializes the variables (W and b) in the graph\n",
        "tf.global_variables_initializer().run()"
      ],
      "execution_count": 0,
      "outputs": []
    },
    {
      "cell_type": "code",
      "metadata": {
        "id": "U75B5UmON1bj",
        "colab_type": "code",
        "colab": {}
      },
      "source": [
        "# Execute the graph to obtain the final output, h\n",
        "h_eval = session.run(h, feed_dict={x: np.random.rand(1, 10)})"
      ],
      "execution_count": 0,
      "outputs": []
    },
    {
      "cell_type": "code",
      "metadata": {
        "id": "bbiiFl0vOSFG",
        "colab_type": "code",
        "colab": {}
      },
      "source": [
        "# Close the session\n",
        "session.close()"
      ],
      "execution_count": 0,
      "outputs": []
    },
    {
      "cell_type": "code",
      "metadata": {
        "id": "fciRUVg1OUhw",
        "colab_type": "code",
        "outputId": "49c9fee6-ce67-4939-f9b3-42df17cc475c",
        "colab": {
          "base_uri": "https://localhost:8080/",
          "height": 51
        }
      },
      "source": [
        "h_eval"
      ],
      "execution_count": 0,
      "outputs": [
        {
          "output_type": "execute_result",
          "data": {
            "text/plain": [
              "array([[0.5026527 , 0.4800755 , 0.5489332 , 0.46823615, 0.5351664 ]],\n",
              "      dtype=float32)"
            ]
          },
          "metadata": {
            "tags": []
          },
          "execution_count": 10
        }
      ]
    },
    {
      "cell_type": "markdown",
      "metadata": {
        "id": "pVeA4750Oupf",
        "colab_type": "text"
      },
      "source": [
        "In any client program written with TensorFlow, there will be two main types of objects:\n",
        "1. Operations\n",
        "2. Tensors\n",
        "\n",
        "In example above, ```tf.nn.sigmoid``` is an operation and ```h``` is a tensor.\n",
        "Then we have a ```graph``` object, which is the computational graph that stores the dataflow of our program. \n",
        "When we add the subsequent lines defining ```x, W, b```and ```h``` in the code, TensorFlow automatically adds these tensors to the graph.\n",
        "Next, session executes graph by dividing graph into subgraphs and subsequently to even finer pieces which will then be assigned to workers that will perform the assigned task. Done with the ```session.run()``` function.\n",
        "\n",
        "Most common elements that comprise a TensorFlow client:\n",
        "  1. **Inputs**: Data used to train and test our algorithms\n",
        "  2. **Variables**: Mutable tensors, mostly defining the parameters of our algorithms\n",
        "  3. **Outputs**: Immutable tensors storing both terminal and intermediate outputs\n",
        "  4. **Operations**: Various transformations for inputs to produce the desired outputs.\n",
        "\n",
        "  From earlier example:\n",
        "  * Inputs: `x`\n",
        "  * Variables: `W`, `b`\n",
        "  * Outputs: `h`\n",
        "  * Operations: `tf.nn.sigmoid(...)`, `tf.matmul(...)`\n",
        "\n",
        "  Client can mainly receive data in three different ways:\n",
        "  1. Feeding data at every step of the algorithm with Python code\n",
        "  2. Preloading and storing data as TensorFlow tensors\n",
        "  3. Building an input pipeline"
      ]
    },
    {
      "cell_type": "markdown",
      "metadata": {
        "id": "opd_oMMGT7u3",
        "colab_type": "text"
      },
      "source": [
        "# Feeding data with Python Code\n",
        "In earlier example, `x` is an example of this method.\n",
        "\n",
        "To feed data into the client from external data structures (e.g. `numpy.ndarray`) TensorFlow provides the `tf.placeholder`. Placeholders do not require actual data at the graph building stage. Rather, data is fed only for graph executions invoked with `session.run(..., feed_dict={placeholder: value})` by passing the external data to the `feed_dict` argument in the form of a Python dictionary where the key is the `tf.placeholder` variable and the corresponding value is the actual data (e.g. `numpy.ndarray`). Placeholder definition takes the form:\n",
        "\n",
        "`tf.placeholder(dtype, shape=None, name=None)`\n",
        "\n",
        "The arguments are:\n",
        "* `dtype`: The data type for the data fed into the placeholder\n",
        "* `shape`: Shape of the placeholder, given as a 1D vector\n",
        "* `name`: Name of placeholder, important for debugging.\n",
        "\n"
      ]
    },
    {
      "cell_type": "markdown",
      "metadata": {
        "id": "bgAfOzgZWFiP",
        "colab_type": "text"
      },
      "source": [
        "# Preloading and storing data as tensors\n",
        "Similar to first method, but we do not have to data during graph execution as the data is preloaded. \n",
        "\n",
        "Two main differences:\n",
        "1. When defining our input `x` we use `tf.constant`, assigning a specific value straight away and defining `x` as a tensor. \n",
        "2. We do not feed any additional input to `session.run()`. This is because our data has already been defined and thus we do not need to use `feed_dict`."
      ]
    },
    {
      "cell_type": "code",
      "metadata": {
        "id": "OTpIvhInWTj9",
        "colab_type": "code",
        "outputId": "36768787-e585-48d2-b539-647c81929997",
        "colab": {
          "base_uri": "https://localhost:8080/",
          "height": 71
        }
      },
      "source": [
        "# Let us evaluate the sigmoid function using fixed values\n",
        "preload_graph = tf.Graph()\n",
        "preload_sess = tf.InteractiveSession(graph=graph)\n",
        "\n",
        "# We instead define x as a tensor that contains specific values\n",
        "x = tf.constant(value=[[0.1, 0.2, 0.3, 0.4, 0.5, 0.6, 0.7, 0.8, 0.9, 1.0]], dtype=tf.float32, name='x')\n",
        "\n",
        "# Same variables\n",
        "W = tf.Variable(tf.random_uniform(shape=[10, 5], minval=-0.1, maxval=0.1, dtype=tf.float32), name='W')\n",
        "b = tf.Variable(tf.zeros(shape=[5], dtype=tf.float32), name='b')\n",
        "\n",
        "# Output\n",
        "h = tf.nn.sigmoid(tf.matmul(x, W) + b)\n",
        "\n",
        "# Executing operations and evaluating nodes in graph\n",
        "tf.global_variables_initializer().run()"
      ],
      "execution_count": 0,
      "outputs": [
        {
          "output_type": "stream",
          "text": [
            "/tensorflow-1.15.0/python3.6/tensorflow_core/python/client/session.py:1750: UserWarning: An interactive session is already active. This can cause out-of-memory errors in some cases. You must explicitly call `InteractiveSession.close()` to release resources held by the other session(s).\n",
            "  warnings.warn('An interactive session is already active. This can '\n"
          ],
          "name": "stderr"
        }
      ]
    },
    {
      "cell_type": "code",
      "metadata": {
        "id": "pumOZwwUWt3P",
        "colab_type": "code",
        "outputId": "a02b8ca2-1164-4036-88fa-be10283b60a8",
        "colab": {
          "base_uri": "https://localhost:8080/",
          "height": 34
        }
      },
      "source": [
        "# Then we would not need to use feed_dict when running the session\n",
        "preload_h_eval = preload_sess.run(h)\n",
        "print(preload_h_eval)\n",
        "preload_sess.close()"
      ],
      "execution_count": 0,
      "outputs": [
        {
          "output_type": "stream",
          "text": [
            "[[0.4783498  0.5351755  0.5512288  0.48623568 0.47490183]]\n"
          ],
          "name": "stdout"
        }
      ]
    },
    {
      "cell_type": "markdown",
      "metadata": {
        "id": "2lZ2-m4WZnB6",
        "colab_type": "text"
      },
      "source": [
        "# Building an Input Pipeline\n",
        "Designed for more heavy-duty clients that need to process a lot of data quickly. Creates a queue that holds data until it is needed. Possible to have multiple threads reading and processing in parallel. \n",
        "\n",
        "Typical pipeline will consist of:\n",
        "* List of filenames\n",
        "* Filename queue producing filenames for an input (record) reader\n",
        "* Record reader for reading the inputs\n",
        "* Decoder to decode the read records (e.g. JPEG image decoding)\n",
        "* Preprocessing steps (optional)\n",
        "* An example (decoded inputs) queue"
      ]
    },
    {
      "cell_type": "code",
      "metadata": {
        "id": "rrq-ZHNEXCQo",
        "colab_type": "code",
        "colab": {}
      },
      "source": [
        "# In this example we have three text files in CSV format, each with five lines and each line having 10 numbers separated by commas\n",
        "# Need to read this data as batches (multiple rows of data vectors) by forming an input pipeline from files all the way to a tensor representing those input files\n",
        "import tensorflow as tf\n",
        "import numpy as np\n",
        "\n",
        "# Create graph and session\n",
        "graph = tf.Graph()\n",
        "session = tf.InteractiveSession(graph=graph)\n",
        "\n",
        "# Define filename queue (queue data structure containing filenames)\n",
        "# Queue will produce filenames as requested by the reader, so that the reader can fetch the files with filenames to read data\n",
        "filenames = ['test%d.txt'%i for i in range(1, 4)]\n",
        "filename_queue = tf.train.string_input_producer(filenames, capacity=3, shuffle=True, name='string_input_producer')\n",
        "# capacity is the amount of data held in the queue at a given time\n",
        "# shuffle tells the queue if the data should be shuffled before spitting out\n",
        "\n",
        "# TF has several readers\n",
        "# As we have a few separate text files where a single line represents a single data point\n",
        "reader = tf.TextLineReader()\n",
        "\n",
        "# Use the read function to read data from the file, it outputs (key, value) pairs\n",
        "key, value = reader.read(filename_queue, name='text_read_op')\n"
      ],
      "execution_count": 0,
      "outputs": []
    }
  ]
}