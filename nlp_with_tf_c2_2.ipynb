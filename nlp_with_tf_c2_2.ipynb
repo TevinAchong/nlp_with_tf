{
  "nbformat": 4,
  "nbformat_minor": 0,
  "metadata": {
    "colab": {
      "name": "nlp_with_tf_c2_2.ipynb",
      "provenance": [],
      "collapsed_sections": []
    },
    "kernelspec": {
      "name": "python3",
      "display_name": "Python 3"
    }
  },
  "cells": [
    {
      "cell_type": "markdown",
      "metadata": {
        "id": "Q4DSL7cfVHcR",
        "colab_type": "text"
      },
      "source": [
        "# Defining Variables in TensorFlow\n",
        "* Variable is essentially a tensor with a specific shape defining how many dimensions the variable will have and the size of each dimension. \n",
        "* Unlike regular tensor, variables are mutable - ideal property to implement parameters of learning models where the weights change slightly after each step of learning.\n",
        "* If you define `tf.Variable(0, dtype=tf.int32)`, you can change its value using a TensorFlow operation such as `tf.assign(x, x+1)`. \n",
        "* Cannot change value of a defined tensor such as `tf.constant(0, dtype=tf.int32)`. It should stay 0 unitl the end of the program execution. \n",
        "* A few things are of high importance when creating variables:\n",
        "1. Variable shape\n",
        "2. Data type\n",
        "3. Initial value\n",
        "4. Name (optional)\n",
        "\n",
        "### Variable Shape\n",
        "* 1D vector of the `[x, y, z, ...]` format. \n",
        "* Each value indicates how large corresponding dimension or axis is. \n",
        "* e.g. 2D tensor with 50 rows and 10 columns would have shape `[50, 10]`.\n",
        "* Dimensionality of the variable (length of the `shape` vector) is recognized as the rank of the tensor in TensorFlow.\n",
        "\n",
        "### Data Type\n",
        "* Plays an important role in determining size of variable. \n",
        "* Commonly used include `tf.bool, tf.uint8, tf.float32, tf.int32`. \n",
        "* Each data type has a number of bits required to represent a single value with that type. e.g. `tf.uint8` requires 8 bits, `tf.float32` requires 32 bits.\n",
        "* Common practice to use same data types for computations to avoid mismatches. \n",
        "* If you have two different data types for two tensors that you need to transform, you have to explicitly convert one tensor to the other tensor's type using the `tf.cast(...)` operation.\n",
        "* e.g. you have an `x` variable with type `tf.int32` which needs to be converted to `tf.float32`, we would use `tf.cast(x, dtype=float32)`. \n",
        "\n",
        "### Initial Value\n",
        "* Variable requires initial value to be initialized with. \n",
        "* TensorFlow provides several, including constant & normal distribution initializers.\n",
        "Few popular TensorFlow initializers:\n",
        "1. `tf.zeros`\n",
        "2. `tf.constant_initializer`\n",
        "3. `tf.random_uniform`\n",
        "4. `tf.truncated_normal`\n",
        "\n",
        "### Name\n",
        "* Used as an ID to identify variable in graph. \n",
        "* If you ever visualize graph, name will appear by the argument passed to the `name` keyword. \n",
        "* If no name is specified, TensorFlow will use default naming scheme. "
      ]
    },
    {
      "cell_type": "markdown",
      "metadata": {
        "id": "Rb6hPUM7ZU4S",
        "colab_type": "text"
      },
      "source": [
        "# Defining TensorFlow outputs\n",
        "* Usually tensors and a result of a transformation to either an input or a variable or both. \n",
        "* We can pass outputs to other operations. \n",
        "* We can also use standard Python arithmetic.\n",
        "```\n",
        "x = tf.matmul (w, A)\n",
        "y - x + B\n",
        "z = tf.add(y, C)\n",
        "```"
      ]
    },
    {
      "cell_type": "markdown",
      "metadata": {
        "id": "TWewFfAraJeB",
        "colab_type": "text"
      },
      "source": [
        "# Defining Tensorflow Operations\n",
        "## Comparison Operations\n",
        "* Useful for comparing two tensors. \n",
        "* Let us comsider two example tensors, `x` and `y`.\n",
        "\n",
        "```\n",
        "# Let us assume the following values for x and y\n",
        "# x (2D tensor) => [[1, 2], [3, 4]]\n",
        "# y (2D tensor) => [[4, 3], [3, 2]]\n",
        "x = tf.constant([[1, 2], [3, 4]], dtype=tf.int32)\n",
        "y = tf.constant([[4, 3], [3, 2]], dtype=tf.int32)\n",
        "\n",
        "# Checks if two tensors are equal element-wise and returns a boolean tensor\n",
        "# x_equal_y => [[False, False], [True, False]]\n",
        "x_equal_y = tf.equal(x, y, name=None)\n",
        "\n",
        "# Checks if x is less than y element-wise and returns a boolean tensor\n",
        "# x_less_y => [[True, True], [False, False]]\n",
        "x_less_y = tf.less(x, y, name=None)\n",
        "\n",
        "# Checks if x is greater than or equal to y element-wise and returns a boolean tensor\n",
        "# x_great_y => [[False, False], [True, True]]\n",
        "x_great_y = tf.greater_equal(x, y, name=None)\n",
        "\n",
        "# Selects elements from x and y depending on whether\n",
        "# the condition is satisfied (select elements from x)\n",
        "# or the condition failed (select elements from y)\n",
        "conditon = tf.constant([[True, False], [True, False]], dtype=tf.bool)\n",
        "# x_cond_y => [[1, 3], [3, 2]]\n",
        "x_cond_y = tf.where(condition, x, y, name=None)\n",
        "``` \n",
        "\n",
        "## Mathematical Operations\n",
        "* Can perform simple to complex math operations on tensors. "
      ]
    },
    {
      "cell_type": "code",
      "metadata": {
        "id": "eVDIx9UrfiA1",
        "colab_type": "code",
        "colab": {}
      },
      "source": [
        "import tensorflow as tf\n",
        "import numpy as np"
      ],
      "execution_count": 0,
      "outputs": []
    },
    {
      "cell_type": "code",
      "metadata": {
        "id": "5ge3o4jZflIU",
        "colab_type": "code",
        "colab": {}
      },
      "source": [
        "graph = tf.Graph()\n",
        "session = tf.InteractiveSession(graph=graph)"
      ],
      "execution_count": 0,
      "outputs": []
    },
    {
      "cell_type": "code",
      "metadata": {
        "id": "ewcPw7IIfsLl",
        "colab_type": "code",
        "colab": {}
      },
      "source": [
        "x = tf.constant([[1, 2], [3, 4]], dtype=tf.float32)\n",
        "y = tf.constant([[4, 3], [3, 2]], dtype=tf.float32)"
      ],
      "execution_count": 0,
      "outputs": []
    },
    {
      "cell_type": "code",
      "metadata": {
        "id": "CTL0yKvif46m",
        "colab_type": "code",
        "outputId": "145dcce6-bbe0-4116-9b80-74d8fc34148e",
        "colab": {
          "base_uri": "https://localhost:8080/",
          "height": 54
        }
      },
      "source": [
        "# Element-wise addition\n",
        "x_add_y = session.run(tf.add(x, y))\n",
        "print(x_add_y)"
      ],
      "execution_count": 5,
      "outputs": [
        {
          "output_type": "stream",
          "text": [
            "[[5. 5.]\n",
            " [6. 6.]]\n"
          ],
          "name": "stdout"
        }
      ]
    },
    {
      "cell_type": "code",
      "metadata": {
        "id": "L3XCiviKf_ln",
        "colab_type": "code",
        "outputId": "3355dff1-1377-468e-cca0-cb73e93b6dc0",
        "colab": {
          "base_uri": "https://localhost:8080/",
          "height": 54
        }
      },
      "source": [
        "# Matrix multiplication (not element-wise)\n",
        "x_mul_y = session.run(tf.matmul(x, y))\n",
        "print(x_mul_y)"
      ],
      "execution_count": 6,
      "outputs": [
        {
          "output_type": "stream",
          "text": [
            "[[10.  7.]\n",
            " [24. 17.]]\n"
          ],
          "name": "stdout"
        }
      ]
    },
    {
      "cell_type": "code",
      "metadata": {
        "id": "wsBSA38vg4Po",
        "colab_type": "code",
        "outputId": "8033e498-4a6a-4b79-ed28-72b05ce04252",
        "colab": {
          "base_uri": "https://localhost:8080/",
          "height": 54
        }
      },
      "source": [
        "# Compute natural logarithm of x element-wise (ln(x))\n",
        "ln_x = session.run(tf.log(x))\n",
        "print(ln_x)"
      ],
      "execution_count": 7,
      "outputs": [
        {
          "output_type": "stream",
          "text": [
            "[[0.        0.6931472]\n",
            " [1.0986123 1.3862944]]\n"
          ],
          "name": "stdout"
        }
      ]
    },
    {
      "cell_type": "code",
      "metadata": {
        "id": "kTNd4LzuhGzv",
        "colab_type": "code",
        "outputId": "e6b1a7e8-6cfe-4c3c-9cc5-09bbec18d156",
        "colab": {
          "base_uri": "https://localhost:8080/",
          "height": 35
        }
      },
      "source": [
        "# Peform reduction operation across specified axis\n",
        "x_sum_1 = session.run(tf.reduce_sum(x, axis=[1], keepdims=False))\n",
        "print(x_sum_1)"
      ],
      "execution_count": 8,
      "outputs": [
        {
          "output_type": "stream",
          "text": [
            "[3. 7.]\n"
          ],
          "name": "stdout"
        }
      ]
    },
    {
      "cell_type": "code",
      "metadata": {
        "id": "kMxGn9VThgb-",
        "colab_type": "code",
        "outputId": "6bdf65d4-91ef-4469-8f91-8982a7fee1cc",
        "colab": {
          "base_uri": "https://localhost:8080/",
          "height": 35
        }
      },
      "source": [
        "x_sum_2 = session.run(tf.reduce_sum(x, axis=[0], keepdims=True))\n",
        "print(x_sum_2)"
      ],
      "execution_count": 9,
      "outputs": [
        {
          "output_type": "stream",
          "text": [
            "[[4. 6.]]\n"
          ],
          "name": "stdout"
        }
      ]
    },
    {
      "cell_type": "code",
      "metadata": {
        "id": "LsNUxWrrh1It",
        "colab_type": "code",
        "outputId": "1a5a50ff-b45c-4511-d7d0-6b2f028929fe",
        "colab": {
          "base_uri": "https://localhost:8080/",
          "height": 35
        }
      },
      "source": [
        "# Segments tensor according to segment_ids (items with same id in the same\n",
        "# segment) and computes a segmented sum of the data\n",
        "data = tf.constant([1, 2, 3, 4, 5, 6, 7, 8, 9, 10], dtype=tf.float32)\n",
        "segment_ids = tf.constant([0, 0, 0, 1, 1, 2, 2, 2, 2, 2], dtype=tf.int32)\n",
        "x_seg_sum = session.run(tf.segment_sum(data, segment_ids))\n",
        "print(x_seg_sum)\n"
      ],
      "execution_count": 10,
      "outputs": [
        {
          "output_type": "stream",
          "text": [
            "[ 6.  9. 40.]\n"
          ],
          "name": "stdout"
        }
      ]
    },
    {
      "cell_type": "code",
      "metadata": {
        "id": "T0S48SSMijHi",
        "colab_type": "code",
        "colab": {}
      },
      "source": [
        "session.close()"
      ],
      "execution_count": 0,
      "outputs": []
    },
    {
      "cell_type": "markdown",
      "metadata": {
        "id": "y98bZBpgkcBr",
        "colab_type": "text"
      },
      "source": [
        "# Scatter and gather operations\n",
        "* Play a vital role in matrix manipulation tasks\n",
        "* Only way to index tensors in TensorFlow\n",
        "* You cannot access elements of tensors in TensorFlow as you would in NumPy (e.g `x[1, 0]` where `x` is a 2D `numpy.ndarray`). \n",
        "* Scatter operation - allows you to assign values to specific indices of a given tensor\n",
        "* Gather operation - allows you to extract a slice (or individual elements) of a given tensor."
      ]
    },
    {
      "cell_type": "code",
      "metadata": {
        "id": "z-SHPDT6lNgi",
        "colab_type": "code",
        "colab": {}
      },
      "source": [
        "graph = tf.Graph()\n",
        "session = tf.InteractiveSession(graph=graph)"
      ],
      "execution_count": 0,
      "outputs": []
    },
    {
      "cell_type": "code",
      "metadata": {
        "id": "-YqJ-mtHlVMa",
        "colab_type": "code",
        "outputId": "c2ccb19b-f18f-4f42-be05-beef8e957269",
        "colab": {
          "base_uri": "https://localhost:8080/",
          "height": 35
        }
      },
      "source": [
        "# 1D scatter operation\n",
        "ref = tf.Variable(tf.constant([1, 9, 3, 10, 5], dtype=tf.float32),\n",
        "                  name='scatter_update')\n",
        "indices = [1, 3]\n",
        "updates = tf.constant([2, 4], dtype=tf.float32)\n",
        "tf.global_variables_initializer().run()\n",
        "tf_scatter_update = tf.scatter_update(ref, indices, updates,\n",
        "                                      use_locking=None, name=None)\n",
        "tf_sur = session.run(tf_scatter_update)\n",
        "print(tf_scatter_update)"
      ],
      "execution_count": 13,
      "outputs": [
        {
          "output_type": "stream",
          "text": [
            "Tensor(\"ScatterUpdate:0\", shape=(5,), dtype=float32_ref)\n"
          ],
          "name": "stdout"
        }
      ]
    },
    {
      "cell_type": "code",
      "metadata": {
        "id": "ZFFLV2R03xIX",
        "colab_type": "code",
        "colab": {}
      },
      "source": [
        "# nD scatter operation\n",
        "indices = [[1], [3]]\n",
        "updates = tf.constant([[1, 1, 1], [2, 2, 2]])\n",
        "shape = [4, 3]\n",
        "tf_scatter_nd_1 = tf.scatter_nd(indices, updates, shape, name=None)"
      ],
      "execution_count": 0,
      "outputs": []
    },
    {
      "cell_type": "code",
      "metadata": {
        "id": "wbDpr8sw4VV_",
        "colab_type": "code",
        "colab": {}
      },
      "source": [
        ""
      ],
      "execution_count": 0,
      "outputs": []
    }
  ]
}